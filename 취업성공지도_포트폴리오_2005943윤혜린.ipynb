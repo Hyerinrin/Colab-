{
  "nbformat": 4,
  "nbformat_minor": 0,
  "metadata": {
    "colab": {
      "provenance": [],
      "authorship_tag": "ABX9TyOdSoSdj0L2lcFCPUDXMri/",
      "include_colab_link": true
    },
    "kernelspec": {
      "name": "python3",
      "display_name": "Python 3"
    },
    "language_info": {
      "name": "python"
    }
  },
  "cells": [
    {
      "cell_type": "markdown",
      "metadata": {
        "id": "view-in-github",
        "colab_type": "text"
      },
      "source": [
        "<a href=\"https://colab.research.google.com/github/Hyerinrin/Colab-/blob/main/%EC%B7%A8%EC%97%85%EC%84%B1%EA%B3%B5%EC%A7%80%EB%8F%84_%ED%8F%AC%ED%8A%B8%ED%8F%B4%EB%A6%AC%EC%98%A4_2005943%EC%9C%A4%ED%98%9C%EB%A6%B0.ipynb\" target=\"_parent\"><img src=\"https://colab.research.google.com/assets/colab-badge.svg\" alt=\"Open In Colab\"/></a>"
      ]
    },
    {
      "cell_type": "markdown",
      "source": [
        "#**Portfolio**"
      ],
      "metadata": {
        "id": "o-brjJNbS10M"
      }
    },
    {
      "cell_type": "markdown",
      "source": [
        "###목차\n",
        "1. 개요<br>\n",
        "    1.1 작품 이름<br>\n",
        "    1.2 작품 소개 및 필요성<br>\n",
        "    1.3 팀원 소개<br>\n",
        "    1.4 역할 분담 및 기여도<br>\n",
        "    1.5 목표 사용자<br>\n",
        "2. 개발<br>\n",
        "    2.1 개발 기간 및 환경<br>\n",
        "    2.2 개발 산출물 및 실행 예시 화면\n",
        "        \n",
        "3. 관리<br>\n",
        "    3.1 프로젝트 repository 및 완성물 접근 경로<br>\n",
        "    3.2 연락처\n",
        "\n",
        "\n"
      ],
      "metadata": {
        "id": "4ovYLrByTBCE"
      }
    },
    {
      "cell_type": "markdown",
      "source": [
        "##1. 개요"
      ],
      "metadata": {
        "id": "o9kT5Tb7UbH7"
      }
    },
    {
      "cell_type": "markdown",
      "source": [
        "####1.1 작품 이름"
      ],
      "metadata": {
        "id": "FiLJHyhhUc1b"
      }
    },
    {
      "cell_type": "markdown",
      "source": [
        "<img src =\n",
        "\"https://drive.google.com/uc?id=1TOKgkMYksg4t7oWyy9c07kB0-lWiGkiq\"\n",
        "height=300, width = 900>"
      ],
      "metadata": {
        "id": "BDWmRq-2UeXz"
      }
    },
    {
      "cell_type": "markdown",
      "source": [
        "####1.2 작품 소개 및 필요성"
      ],
      "metadata": {
        "id": "pVX9moZUaclk"
      }
    },
    {
      "cell_type": "markdown",
      "source": [
        "<img src =\n",
        "\"https://drive.google.com/uc?id=18xrAsMMYllSo8GZ2_VYWsSDKXjDx7_1c\"\n",
        "height = 400, width=900>"
      ],
      "metadata": {
        "id": "ZwQV96d8dg9t"
      }
    },
    {
      "cell_type": "markdown",
      "source": [
        "####주제\n",
        "\n",
        "> 공공 데이터와 다양한 API, **챗봇**이라는 메커니즘을 활용하여<br> \n",
        "  **혼잡도**를 고려한 길찾기 기능을 제공해주는 어플\n",
        "\n",
        "<br>\n",
        "\n",
        "####필요성\n",
        "\n",
        "\n",
        "> 코로나19 사태가 지속되는 상황에서 거리두기가 완화에 따른 유동 인구 증가함에 따라 대중교통 지하철에도 인파가 몰리며 타인과의 접촉을 피할 수 없게 됨<br>\n",
        "→ **혼잡도**를 계산하여 유동인구가 적은 경로를 찾아 지하철을 이용할 때 타인과의 접촉을 최소화할 수 있게 하는 어플을 제작하고자 함\n",
        "\n",
        "\n",
        "\n",
        "\n",
        "\n",
        "\n",
        "\n"
      ],
      "metadata": {
        "id": "UAAdQ0DaeR40"
      }
    },
    {
      "cell_type": "markdown",
      "source": [
        "####1.3 팀원 소개"
      ],
      "metadata": {
        "id": "j0NGNnsPjJ21"
      }
    },
    {
      "cell_type": "markdown",
      "source": [
        "<img src = \"https://drive.google.com/uc?id=1r2kOHffdG-uk7joI6gdq8iNpyYzLJsoj\"\n",
        "height= 300, widht=1000>"
      ],
      "metadata": {
        "id": "eKPGrUkmjUJV"
      }
    },
    {
      "cell_type": "markdown",
      "source": [
        "####1.4 역할 분담 및 기여도"
      ],
      "metadata": {
        "id": "F1kblc4ykodk"
      }
    },
    {
      "cell_type": "markdown",
      "source": [
        "<img src = \"https://drive.google.com/uc?id=10qGnFHdBsxDHXk25eImk-Qh_HavPgkmm\"\n",
        "height=300, width=600>"
      ],
      "metadata": {
        "id": "_3_xow3AlRe8"
      }
    },
    {
      "cell_type": "markdown",
      "source": [
        "맡은 역할\n",
        "\n",
        "\n",
        "\n",
        "*   길찾기 알로리즘(Dijikstra) 구현\n",
        "*   시간대에 따른 혼잡 여부 표시\n",
        "*   총 소요 시간 표시\n",
        "\n",
        "\n",
        "\n"
      ],
      "metadata": {
        "id": "gDDSClkCoAnE"
      }
    },
    {
      "cell_type": "markdown",
      "source": [
        "####1.5 목표 사용자"
      ],
      "metadata": {
        "id": "tfBQqESupFkd"
      }
    },
    {
      "cell_type": "markdown",
      "source": [
        "<img src = \"https://drive.google.com/uc?id=1tQaiFjIXzTktocgy81i3Ese4RAa_xMp8\"\n",
        "height = 400, width=700>"
      ],
      "metadata": {
        "id": "eSP-7qf_6YFn"
      }
    },
    {
      "cell_type": "markdown",
      "source": [
        "##2. 개발"
      ],
      "metadata": {
        "id": "JKAXnlA37Zz1"
      }
    },
    {
      "cell_type": "markdown",
      "source": [
        "###2.1 개발 기간 및 환경"
      ],
      "metadata": {
        "id": "mG0sY_E77kDl"
      }
    },
    {
      "cell_type": "markdown",
      "source": [
        "####Gantt Chart\n",
        "\n",
        "-Gantt Chart 전체 일정을 간략하게 나타내었습니다."
      ],
      "metadata": {
        "id": "HgM7EQaH7okV"
      }
    },
    {
      "cell_type": "markdown",
      "source": [
        "<img src = \"https://drive.google.com/uc?id=1QWhTDiG-jWpYQxuB52f9h4GuRB9QeSc8\" height=200, width=600>\n",
        "<img src = \"https://drive.google.com/uc?id=1dsn1m1udQAoJShI90nHcGpQuKy8EGqg2\" height=200, width=600>\n",
        "<img src = \"https://drive.google.com/uc?id=1DEVmwajKxafmOEujBIzymLgfmKruPi2L\" height=200, width=600>"
      ],
      "metadata": {
        "id": "OzU31WcGCHjW"
      }
    },
    {
      "cell_type": "markdown",
      "source": [
        "#### 개발 환경\n",
        "\n",
        "-전체 개발 환경은 다음과 같습니다."
      ],
      "metadata": {
        "id": "iS62QDkgDFFW"
      }
    },
    {
      "cell_type": "markdown",
      "source": [
        "<img src = \"https://drive.google.com/uc?id=1yZj0aQsXZmPe7dyl71GbDjSwblwh1x2s\" height=300, width=700>"
      ],
      "metadata": {
        "id": "LlaIiOmfRYQ4"
      }
    },
    {
      "cell_type": "markdown",
      "source": [
        "### 2.2 개발 주요 산출물 및 실행 예시"
      ],
      "metadata": {
        "id": "dbyBjNZKTOP_"
      }
    },
    {
      "cell_type": "markdown",
      "source": [
        "UI/UX 설계 <br>\n",
        "<img src =\"https://drive.google.com/uc?id=1przlp4TDQwUYbDZumuG-qjF3HUnd4fMT\"\n",
        "height=400, width=500>\n",
        "\n",
        "\n",
        "\n",
        "E-R 다이어그램<br>\n",
        "<img src =\"https://drive.google.com/uc?id=1LBKOdFPKyep0ogYy07zvdjPwLDA7ZS7C\"\n",
        "height=350, width=700>"
      ],
      "metadata": {
        "id": "XNzEmoTSTgsf"
      }
    },
    {
      "cell_type": "markdown",
      "source": [
        "####길찾기 기능 예시"
      ],
      "metadata": {
        "id": "tBcodxA0UwZ3"
      }
    },
    {
      "cell_type": "markdown",
      "source": [
        "<img src = \"https://drive.google.com/uc?id=1D0_DJn9wYpQPxHPojk7_s4NaupQO0_4Z\"\n",
        "height=400, width=550>"
      ],
      "metadata": {
        "id": "SIE5w02FWrag"
      }
    },
    {
      "cell_type": "markdown",
      "source": [
        "#### 메인페이지 & 회원관리 예시\n",
        "\n",
        "<img src=\"https://drive.google.com/uc?id=1S-cilznHYTUS-NtQJ0UkOaMuUzmPE2Bg\"\n",
        "height=400, width=600>"
      ],
      "metadata": {
        "id": "ct02qnnnXGDo"
      }
    },
    {
      "cell_type": "markdown",
      "source": [
        "####지도 기능 예시\n",
        "<img src =\"https://drive.google.com/uc?id=1GWKzSJsOSFaBQnwxBAkFT9rGaEjiBIWz\"\n",
        "height=400, width=580>\n",
        "\n"
      ],
      "metadata": {
        "id": "Z6H9ANxqZyKg"
      }
    },
    {
      "cell_type": "markdown",
      "source": [
        "####일정 관리\n",
        "<img src = \"https://drive.google.com/uc?id=1GO-rm7HtJAIg07OSRwrmeh0c6jGbl4ns\"\n",
        "height=400, width=450>"
      ],
      "metadata": {
        "id": "2eTwfyKvcBZo"
      }
    },
    {
      "cell_type": "markdown",
      "source": [
        "## 3. 관리\n",
        "\n",
        "###3.1 코드 repository & 결과물 경로"
      ],
      "metadata": {
        "id": "43wjO8Ficbb3"
      }
    },
    {
      "cell_type": "markdown",
      "source": [
        "#####Github https://github.com/sally001020/Myway.git \n",
        "\n",
        "\n",
        "구글 Play Store 출시 예정 \n"
      ],
      "metadata": {
        "id": "DAVvhyUOdHUB"
      }
    },
    {
      "cell_type": "markdown",
      "source": [
        "###3.2 연락처\n",
        "\n",
        "Github\n",
        "https://github.com/Hyerinrin\n",
        "\n",
        "E-mail\n",
        "1234youn2@gmail.com"
      ],
      "metadata": {
        "id": "IBC-ZoyAdSi3"
      }
    }
  ]
}